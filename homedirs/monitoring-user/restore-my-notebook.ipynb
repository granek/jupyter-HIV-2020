{
 "cells": [
  {
   "cell_type": "markdown",
   "metadata": {},
   "source": [
    "## Reload my notebook from the original template\n",
    "\n",
    "If you have messed up your notebook and want to start again with version,\n",
    "run the cell below.  \n",
    "This will copy a new un-modified version of the mySQL notebook \n",
    "into your home directory. \n",
    "\n",
    "**_NOTE:_** this will **_delete_** your current copy of the mySQL notebook.  \n",
    "To keep your current notebook you should rename it _before_ you reload \n",
    "from the clean template version.\n",
    "\n"
   ]
  },
  {
   "cell_type": "code",
   "execution_count": 1,
   "metadata": {
    "collapsed": false
   },
   "outputs": [
    {
     "name": "stdout",
     "output_type": "stream",
     "text": []
    }
   ],
   "source": [
    "cp .templates/mysql-example.ipynb mysql-example.ipynb\n",
    "chmod u+w mysql-example.ipynb"
   ]
  }
 ],
 "metadata": {
  "kernelspec": {
   "display_name": "Bash",
   "language": "bash",
   "name": "bash"
  },
  "language_info": {
   "codemirror_mode": "shell",
   "file_extension": ".sh",
   "mimetype": "text/x-sh",
   "name": "bash"
  }
 },
 "nbformat": 4,
 "nbformat_minor": 0
}
